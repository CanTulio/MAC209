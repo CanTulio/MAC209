{
 "cells": [
   {
   "cell_type": "markdown",
   "metadata": {},
   "source": [
    "# Relatorio EP1"
   ]
  },
  {
   "cell_type": "markdown",
   "metadata": {},
   "source": [
    "## Introducao\n",
    "\n",
    "Nesse relatorio examinamos duas formas de movimento, o Movimento Retilineo Uniforme (MRU) e o Movimento Retilineo Uniformemente Variado (MRUV). Tentaremos estimar, a partir do nosso conhecimento previo sobre as caracteristicas desses dois movimentos, equaçoes que modelem os dados experimentais adequadamente.\n Os experimentos realizados foram os seguintes: Para o MRU, uma pessoa andava em velocidade constante em um terreno plano, e foi medido o tempo de deslocamento dessa pessoa ao atingir as distancias de 10,20 e 30 metros. Para o MRUV, uma pessoa utilizava um skate e eram medidos os tempos nas mesmas distancias."
   ]
  },
  {
   "cell_type": "markdown",
   "metadata": {},
   "source": [
    "## Metodo\n",
    "\n",
    "Para os dois experimentos medimos com uma regua as distancias de 10, 20 e 30 metros de um ponto inicial, e posicionamos pessoas ao longo desses pontos. Cada pessoa tinha um cronometro e registrava quando a pessoa carregando o acelerometro passava pela sua marca. Em algumas ocasioes a pessoa na marca dos 30 metros tambem gravou o experimento. \n Antes de cada medicao as pessoas se posicionavam, a pessoa com o acelerometro começava a medicao dos dados sem iniciar o movimento e esperava 3 segundos, apos isso ela indicava o inicio do experimento e os outros membros iniciavam os cronometros, medindo o tempo que a pessoa demorava para atingir suas marcas.\n",
    "No MRU, o deslocamento era feito por uma pessoa andando a velocidade constante segurando o celular.\n",
    "No MRUV, o deslocamento era feito por uma pessoa em cima de um skate ao longo de uma decida, segurando o celular.\n",
    "Nos dois tipos de movimento fizemos mediçoes com 3 pessoas diferentes, cada pessoa realizando 3 mediçoes.\n",
    "\n"
   ]
  },
  {
   "cell_type": "markdown",
   "metadata": {},
   "source": [
    "## Verificação\n",
    "\n",
    "Todas as funções assumem que\n",
    "\n",
    "1. os vetores recebidos tem mesmo tamanho\n",
    "2. não há observação no momento inicial\n",
    "3. a diferença entre duas observações é não nula\n",
    "\n"
   ]
  },
  {
   "cell_type": "markdown",
   "metadata": {},
   "source": [
    "## Dados\n",
    "\n",
    "Realizamos 3 travessias para cada tipo de movimento utilizando três integrantes do grupo, de forma que realizamos, to total, 18 medições : 9 medições para o **MUV** (**M**ovimento **U**niformemente **V**ariado) e 9 medições para o **MRU** (**M**ovimento **R**etilíneo **U**niforme). Com os dados colhidos manualmente, utilizando cronômetros, fomos capazes de plotar os gráficos "
   ]
  },
  {
   "cell_type": "markdown",
   "metadata": {},
   "source": [
    "Além disso, utilizando os dados do acelerômetro, plotamos os graficos : "
   ]
  },
  {
   "cell_type": "markdown",
   "metadata": {},
   "source": []
  },
  {
   "cell_type": "code",
   "execution_count": 5,
   "metadata": {},
   "outputs": [
    {
     "name": "stdout",
     "output_type": "stream",
     "text": [
      "Aqui entra o grafico. As sessões 'Interpretação' e 'Análise' só poderao ser escritas depois de ter os graficos.\n"
     ]
    }
   ],
   "source": [
    "print(\"Aqui entra o grafico. As sessões 'Interpretação' e 'Análise' só poderao ser escritas depois de ter os graficos.\")"
   ]
  },
  {
   "cell_type": "markdown",
   "metadata": {},
   "source": [
    "## Critica\n",
    "\n",
    "    Ao fim desse experimento, aprendemos parte do que é ser um cientista de dados. Aprendemos sobre os problemas numa colheta de dados, como se preocupar com o seu ambiente de forma que não afete os seus dados de maneira indesejada e, acima disso, como modelar o experimento para que a coleta de dados seja satisfatória.\n",
    "\n",
    "    Compreendemos como utilizar ferramentas relativas a e-science como Jupyer, Pandas e matplotlib (ambas bibliotecas de Python voltadas a ciência de dados) e a interpretar resultados de um acelrômetro.\n",
    "    \n",
    "    O experimento foi muito interessante para uma introdução ao método cientifico de forma prática"
   ]
  },
  {
   "cell_type": "markdown",
   "metadata": {},
   "source": [
    "## Log\n",
    "\n",
    " * Coleta de dados (MRU) : 3 horas\n",
    " * Coleta de dados (MUV) : 2 horas e 30 minutos\n",
    " * Análise de dados : 7 horas\n",
    " * Edição de vídeo : 5 horas"
   ]
  },
  {
   "cell_type": "code",
   "execution_count": null,
   "metadata": {},
   "outputs": [],
   "source": []
  }
 ],
 "metadata": {
  "kernelspec": {
   "display_name": "Python 3",
   "language": "python",
   "name": "python3"
  },
  "language_info": {
   "codemirror_mode": {
    "name": "ipython",
    "version": 3
   },
   "file_extension": ".py",
   "mimetype": "text/x-python",
   "name": "python",
   "nbconvert_exporter": "python",
   "pygments_lexer": "ipython3",
   "version": "3.6.6"
  }
 },
 "nbformat": 4,
 "nbformat_minor": 2
}
